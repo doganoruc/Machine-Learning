{
 "cells": [
  {
   "cell_type": "code",
   "execution_count": 3,
   "metadata": {},
   "outputs": [],
   "source": [
    "import pyttsx3\n",
    "import speech_recognition as sr"
   ]
  },
  {
   "cell_type": "code",
   "execution_count": 4,
   "metadata": {},
   "outputs": [
    {
     "name": "stdout",
     "output_type": "stream",
     "text": [
      "Speak anything: \n",
      "You said: hello\n",
      "Speak anything: \n",
      "Sorry!\n",
      "Speak anything: \n",
      "You said: bye-bye\n"
     ]
    }
   ],
   "source": [
    "r = sr.Recognizer()\n",
    "jarvis = pyttsx3.init()\n",
    "jarvis.setProperty('rate',220)\n",
    "jarvis.setProperty('voice',1)\n",
    "jarvis.setProperty('language','tr')\n",
    "\n",
    "while True:\n",
    "\n",
    "    with sr.Microphone() as source:\n",
    "        print(\"Speak anything: \")\n",
    "        audio = r.listen(source,timeout=4)\n",
    "\n",
    "        try:\n",
    "            text = r.recognize_google(audio)\n",
    "            print(\"You said: {}\".format(text))\n",
    "            \n",
    "            if text == \"hello\" or text == \"hi\":\n",
    "                tell = \"selam\"\n",
    "            \n",
    "            elif text == \"how old are you\":\n",
    "                tell = \"Hahahaha. I born just few moments ago.\"\n",
    "                \n",
    "            elif text == \"how are you\":\n",
    "                tell = \"Fine, I am okey. You?\"\n",
    "            \n",
    "            elif text == \"I'm okay\":\n",
    "                tell = \"Good to see you. Do you have any schedule today?\"\n",
    "                \n",
    "            elif text == \"bye-bye\" or text == \"close\":\n",
    "                tell = \"It's good to see you man. I am ending our conversation. Bye-bye.\"\n",
    "                break\n",
    "                \n",
    "            else:\n",
    "                tell = \"Sorry, I don't have any answer\"\n",
    "                \n",
    "            jarvis.say(tell)\n",
    "            jarvis.runAndWait()\n",
    "\n",
    "        except:\n",
    "            text = \" \"\n",
    "            print(\"Sorry!\")\n",
    "            jarvis.say(\"Don't understand. Say it again, please!\")\n",
    "            jarvis.runAndWait()\n",
    "\n",
    "jarvis.say(tell)\n",
    "jarvis.runAndWait() \n",
    "jarvis.stop()"
   ]
  },
  {
   "cell_type": "code",
   "execution_count": 14,
   "metadata": {},
   "outputs": [
    {
     "ename": "NameError",
     "evalue": "name 'voices' is not defined",
     "output_type": "error",
     "traceback": [
      "\u001b[1;31m---------------------------------------------------------------------------\u001b[0m",
      "\u001b[1;31mNameError\u001b[0m                                 Traceback (most recent call last)",
      "\u001b[1;32m<ipython-input-14-8c2db05b1280>\u001b[0m in \u001b[0;36m<module>\u001b[1;34m()\u001b[0m\n\u001b[0;32m      1\u001b[0m \u001b[0mr\u001b[0m \u001b[1;33m=\u001b[0m \u001b[0msr\u001b[0m\u001b[1;33m.\u001b[0m\u001b[0mRecognizer\u001b[0m\u001b[1;33m(\u001b[0m\u001b[1;33m)\u001b[0m\u001b[1;33m\u001b[0m\u001b[0m\n\u001b[0;32m      2\u001b[0m \u001b[0mengine\u001b[0m \u001b[1;33m=\u001b[0m \u001b[0mpyttsx\u001b[0m\u001b[1;33m.\u001b[0m\u001b[0minit\u001b[0m\u001b[1;33m(\u001b[0m\u001b[1;34m\"sapi5\"\u001b[0m\u001b[1;33m)\u001b[0m\u001b[1;33m\u001b[0m\u001b[0m\n\u001b[1;32m----> 3\u001b[1;33m \u001b[0mengine\u001b[0m\u001b[1;33m.\u001b[0m\u001b[0msetProperty\u001b[0m\u001b[1;33m(\u001b[0m\u001b[1;34m'voice'\u001b[0m\u001b[1;33m,\u001b[0m \u001b[0mvoices\u001b[0m\u001b[1;33m[\u001b[0m\u001b[1;36m0\u001b[0m\u001b[1;33m]\u001b[0m\u001b[1;33m.\u001b[0m\u001b[0mid\u001b[0m\u001b[1;33m)\u001b[0m\u001b[1;33m\u001b[0m\u001b[0m\n\u001b[0m\u001b[0;32m      4\u001b[0m \u001b[1;33m\u001b[0m\u001b[0m\n\u001b[0;32m      5\u001b[0m \u001b[1;32mwith\u001b[0m \u001b[0msr\u001b[0m\u001b[1;33m.\u001b[0m\u001b[0mMicrophone\u001b[0m\u001b[1;33m(\u001b[0m\u001b[1;33m)\u001b[0m \u001b[1;32mas\u001b[0m \u001b[0msource\u001b[0m\u001b[1;33m:\u001b[0m\u001b[1;33m\u001b[0m\u001b[0m\n",
      "\u001b[1;31mNameError\u001b[0m: name 'voices' is not defined"
     ]
    }
   ],
   "source": [
    "r = sr.Recognizer()\n",
    "engine = pyttsx.init()\n",
    "\n",
    "with sr.Microphone() as source:\n",
    "        print(\"Speak anything: \")\n",
    "        audio = r.listen(source,timeout=6)\n",
    "        text = r.recognize_google(audio)\n",
    "        print(text)\n",
    "        engine.say(\"Dogan\")\n",
    "        engine.runAndWait()"
   ]
  },
  {
   "cell_type": "code",
   "execution_count": 22,
   "metadata": {},
   "outputs": [
    {
     "name": "stdout",
     "output_type": "stream",
     "text": [
      "<Voice id=HKEY_LOCAL_MACHINE\\SOFTWARE\\Microsoft\\Speech\\Voices\\Tokens\\TTS_MS_EN-US_DAVID_11.0\n",
      "          name=Microsoft David Desktop - English (United States)\n",
      "          languages=[]\n",
      "          gender=None\n",
      "          age=None>\n",
      "<Voice id=HKEY_LOCAL_MACHINE\\SOFTWARE\\Microsoft\\Speech\\Voices\\Tokens\\TTS_MS_EN-US_ZIRA_11.0\n",
      "          name=Microsoft Zira Desktop - English (United States)\n",
      "          languages=[]\n",
      "          gender=None\n",
      "          age=None>\n"
     ]
    }
   ],
   "source": [
    "engine1 = pyttsx.init()\n",
    "voices = engine1.getProperty('voices')\n",
    "for i in voices:\n",
    "    print(i)"
   ]
  },
  {
   "cell_type": "code",
   "execution_count": 9,
   "metadata": {},
   "outputs": [
    {
     "data": {
      "text/plain": [
       "True"
      ]
     },
     "execution_count": 9,
     "metadata": {},
     "output_type": "execute_result"
    }
   ],
   "source": [
    "jarvis.isBusy()"
   ]
  },
  {
   "cell_type": "code",
   "execution_count": null,
   "metadata": {},
   "outputs": [],
   "source": [
    "r = sr.Recognizer()\n",
    "engine = pyttsx.init()\n",
    "\n",
    "\n",
    "while True:\n",
    "\n",
    "    with sr.Microphone() as source:\n",
    "        print(\"Speak anything: \")\n",
    "        audio = r.listen(source,timeout=6)\n",
    "\n",
    "        try:\n",
    "            text = r.recognize_google(audio)\n",
    "            print(\"You said: {}\".format(text))\n",
    "        except:\n",
    "            print(\"Sorry999999!\")\n",
    "            engine.say(\"Don't understand. Say it again, please!\")\n",
    "            \n",
    "    \n",
    "    if text == \"hello\":\n",
    "        engine.say(\"Hello man, Long time no see\")\n",
    "        engine.runAndWait()\n",
    "    elif text == \"how are you\":\n",
    "        engine.say(\"I am find, you\")\n",
    "        engine.runAndWait()\n",
    "    elif text == \"how old are you\":\n",
    "        engine.say(\"hahahaha, I born today bro\")\n",
    "        engine.runAndWait()\n",
    "    elif text == \"what's your name\":\n",
    "        engine.say(\"My name is Jarvis. Yours\")\n",
    "        engine.runAndWait()\n",
    "    elif text == \"close\" or text ==\"bye-bye\" :\n",
    "        engine.say(\"It's good to see you man. \\nI am ending our conversation. Bye-bye.\\n\")\n",
    "        engine.runAndWait()\n",
    "        break\n",
    "    else:\n",
    "        engine.say(\"Sorry\")\n",
    "        engine.runAndWait()\n",
    "    \n",
    "        "
   ]
  },
  {
   "cell_type": "code",
   "execution_count": 34,
   "metadata": {},
   "outputs": [],
   "source": [
    "\n"
   ]
  },
  {
   "cell_type": "code",
   "execution_count": 7,
   "metadata": {},
   "outputs": [],
   "source": [
    "engine4 = pyttsx3.init()\n",
    "engine4.setProperty('language','tr')\n",
    "engine4.say(\"doğan\")\n",
    "engine4.runAndWait()\n",
    "engine4.stop()"
   ]
  },
  {
   "cell_type": "code",
   "execution_count": 16,
   "metadata": {},
   "outputs": [
    {
     "name": "stdout",
     "output_type": "stream",
     "text": [
      "word None 0 3\n",
      "word None 0 3\n",
      "word None 0 3\n",
      "word None 4 5\n",
      "word None 4 5\n",
      "word None 4 5\n",
      "word None 10 5\n",
      "word None 10 5\n",
      "word None 10 5\n",
      "word None 16 3\n",
      "word None 16 3\n",
      "word None 16 3\n",
      "word None 20 6\n",
      "word None 20 6\n",
      "word None 20 6\n",
      "word None 27 4\n",
      "word None 27 4\n",
      "word None 27 4\n",
      "word None 32 3\n",
      "word None 32 3\n",
      "word None 32 3\n",
      "word None 36 4\n",
      "word None 36 4\n",
      "word None 36 4\n",
      "word None 41 3\n",
      "word None 41 3\n",
      "word None 41 3\n",
      "finishing None True\n",
      "finishing None True\n",
      "finishing None True\n"
     ]
    }
   ],
   "source": [
    "import pyttsx\n",
    "def onStart(name):\n",
    "   print('starting' + name)\n",
    "def onWord(name, location, length):\n",
    "   print 'word', name, location, length\n",
    "def onEnd(name, completed):\n",
    "   print 'finishing', name, completed\n",
    "engine = pyttsx.init()\n",
    "engine.connect('started-utterance', onStart)\n",
    "engine.connect('started-word', onWord)\n",
    "engine.connect('finished-utterance', onEnd)\n",
    "engine.say('The quick brown fox jumped over the lazy dog.')\n",
    "engine.runAndWait()\n",
    "engine.stop()"
   ]
  },
  {
   "cell_type": "code",
   "execution_count": 29,
   "metadata": {},
   "outputs": [
    {
     "name": "stdout",
     "output_type": "stream",
     "text": [
      "HKEY_LOCAL_MACHINE\\SOFTWARE\\Microsoft\\Speech\\Voices\\Tokens\\TTS_MS_EN-US_DAVID_11.0\n",
      "HKEY_LOCAL_MACHINE\\SOFTWARE\\Microsoft\\Speech\\Voices\\Tokens\\TTS_MS_EN-US_ZIRA_11.0\n"
     ]
    }
   ],
   "source": [
    "engine1 = pyttsx.init()\n",
    "voices = engine1.getProperty('voices')\n",
    "for voice in voices:\n",
    "    engine1.setProperty('voice', voice.id)\n",
    "    print(voice.id)\n",
    "    engine1.say('The quick brown fox jumped over the lazy dog.')\n",
    "    engine1.runAndWait()\n",
    "\n",
    "engine1.setProperty('voice',1)\n",
    "engine1.say(\"Hello\")\n",
    "engine1.runAndWait()\n",
    "engine1.stop()"
   ]
  },
  {
   "cell_type": "code",
   "execution_count": null,
   "metadata": {},
   "outputs": [],
   "source": []
  }
 ],
 "metadata": {
  "kernelspec": {
   "display_name": "Python 3",
   "language": "python",
   "name": "python3"
  },
  "language_info": {
   "codemirror_mode": {
    "name": "ipython",
    "version": 3
   },
   "file_extension": ".py",
   "mimetype": "text/x-python",
   "name": "python",
   "nbconvert_exporter": "python",
   "pygments_lexer": "ipython3",
   "version": "3.7.4"
  }
 },
 "nbformat": 4,
 "nbformat_minor": 2
}
