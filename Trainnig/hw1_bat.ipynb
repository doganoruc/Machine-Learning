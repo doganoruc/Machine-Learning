{
 "cells": [
  {
   "cell_type": "markdown",
   "metadata": {},
   "source": [
    "#### Ödevle ilgili konu anlatımını ve egzersizleri 11 ve 31 Mart tarihli derslerimizde bulabilirsiniz.\n",
    "#### Ödevin son teslim tarihi 11 Nisan 2020 Cumartesi 23.59'dur.\n",
    "#### Ödevin .ipynb formatında teslim edilmesi gerekmektedir.\n",
    "#### Ödevler her ne kadar grup ödevi olsa da, önce bireysel olarak çözmeye çalışmanız ve yapamadığınız kısımlar için grup içerisinde tartışmanız öğrenmeniz açısından en faydalı yol olacaktır.\n",
    "#### Ödevi gruptan sadece 1 kişinin yüklemesi gerekmektedir.\n",
    "#### Ödevlerde notlandırma yoktur, eksik / yanlış kalan kısımlar için geribildirim verilecek ve düzeltme istenecektir.\n",
    "#### Ödevin en sonuna her bir grup üyesinin hangi katkılarda bulunduğunu ve öğrendiklerini yazması beklenmektedir.\n",
    "#### Kolaboratif çalışma için colab.research.google.com'u kullanabilirsiniz.\n",
    "#### Sorularınızı Canvas'taki tartışma kısmına yazabilirsiniz."
   ]
  },
  {
   "cell_type": "code",
   "execution_count": 3,
   "metadata": {},
   "outputs": [],
   "source": [
    "import numpy as np\n",
    "import matplotlib.pyplot as plt\n",
    "%matplotlib inline"
   ]
  },
  {
   "cell_type": "markdown",
   "metadata": {},
   "source": [
    "### Accuracy\n",
    "`accuracy(y_pred,y_true)` fonksiyonunu tanımlayın.\n",
    "\n",
    "Girdi: 2 adet one dimensional array (Tahmin edilen ve gerçek sınıflar)\n",
    "\n",
    "Çıktı: accuracy (float)\n",
    "\n",
    "Bu adımda NumPy'dan ve Python'ın standart kütüphanelerinden başka kütüphane kullanmayın."
   ]
  },
  {
   "cell_type": "code",
   "execution_count": 4,
   "metadata": {},
   "outputs": [],
   "source": [
    "def accuracy(y_true,y_pred):\n",
    "    true = [1 for i,j in zip(y_true,y_pred) if i == j ]\n",
    "    return np.sum(true)/len(y_true)"
   ]
  },
  {
   "cell_type": "code",
   "execution_count": 5,
   "metadata": {},
   "outputs": [
    {
     "data": {
      "text/plain": [
       "0.8"
      ]
     },
     "execution_count": 5,
     "metadata": {},
     "output_type": "execute_result"
    }
   ],
   "source": [
    "accuracy([0,2,1,0,1,3,2,1,3,0],[0,0,1,0,1,3,2,1,1,0]) #4 sınıflı(0,1,2,3) sınıflandırma için örnek. çıktısı 0.8 olmalı"
   ]
  },
  {
   "cell_type": "markdown",
   "metadata": {},
   "source": [
    "### Confusion Matrix\n",
    "Verilen bir binary classification (ikili sınıflandırma) sonuçları için y_true ve y_pred değerlerine bağlı olarak true positive, false positive, true negative, false negative değerlerini oluşturup confusion matrix'i çıkartan `conf_mat(y_true,y_pred)` fonksiyonunu oluşturun.\n",
    "\n",
    "Pozitif class 1, negatif class 0 olarak düşünün.\n",
    "\n",
    "Girdi: 2 adet one dimensional array (Gerçek ve tahmin edilen sınıflar)\n",
    "\n",
    "Çıktı: confusion matrix (2x2 array)\n",
    "\n",
    "Bu adımda NumPy'dan ve Python'ın standart kütüphanelerinden başka kütüphane kullanmayın."
   ]
  },
  {
   "cell_type": "code",
   "execution_count": 40,
   "metadata": {},
   "outputs": [],
   "source": [
    "def conf_mat(y_true,y_pred):\n",
    "    tp = np.sum([1 for i,j in zip(y_true,y_pred) if i == j & j == 1 ])\n",
    "    fp = np.sum([1 for i,j in zip(y_true,y_pred) if i != j & j == 1 ])\n",
    "    tn = np.sum([1 for i,j in zip(y_true,y_pred) if i == j & j == 0 ])\n",
    "    fn = np.sum([1 for i,j in zip(y_true,y_pred) if i != j & j == 0 ])\n",
    "    cm = [[tp,fn],\n",
    "          [fp,tn]]\n",
    "    return cm"
   ]
  },
  {
   "cell_type": "code",
   "execution_count": 47,
   "metadata": {},
   "outputs": [
    {
     "data": {
      "text/plain": [
       "[[3, 1], [1, 1]]"
      ]
     },
     "execution_count": 47,
     "metadata": {},
     "output_type": "execute_result"
    }
   ],
   "source": [
    "# deneme amaçlı kendim oluşturdum :)\n",
    "conf_mat([1,1,1,0,0,1],[1,1,1,1,0,0])"
   ]
  },
  {
   "cell_type": "markdown",
   "metadata": {},
   "source": [
    "### Performance Metrics\n",
    "\n",
    "Verilen bir confusion matrix'e bağlı olarak accuracy, precision, recall (true positive rate / tpr) ve false positive rate (fpr) değerlerini çıktı olarak veren `performance_metrics(cm)` fonksiyonunu oluşturun.\n",
    "\n",
    "Girdi: Confusion matrix (2x2 array)\n",
    "\n",
    "Çıktı: accuracy, precision, tpr, fpr (Çoklu çıktı / her biri float)\n",
    "\n",
    "Bu adımda NumPy'dan ve Python'ın standart kütüphanelerinden başka kütüphane kullanmayın."
   ]
  },
  {
   "cell_type": "code",
   "execution_count": 57,
   "metadata": {},
   "outputs": [],
   "source": [
    "def performance_metrics(cm):\n",
    "    accuracy  = (cm[0][0] + cm[1][1]) / np.sum(cm)\n",
    "    precision = cm[0][0] / (cm[0][0] + cm[1][0])\n",
    "    tpr       = cm[0][0] / (cm[0][0] + cm[0][1]) #recall\n",
    "    fpr       = cm[1][0] / (cm[1][0] + cm[1][1])\n",
    "    return accuracy, precision, tpr, fpr"
   ]
  },
  {
   "cell_type": "code",
   "execution_count": 58,
   "metadata": {},
   "outputs": [
    {
     "data": {
      "text/plain": [
       "(0.8125, 0.8333333333333334, 0.9090909090909091, 0.4)"
      ]
     },
     "execution_count": 58,
     "metadata": {},
     "output_type": "execute_result"
    }
   ],
   "source": [
    "a = [[10, 1],\n",
    "     [2, 3]]\n",
    "performance_metrics(a)"
   ]
  },
  {
   "cell_type": "markdown",
   "metadata": {},
   "source": [
    "### Class Probabilities to Predictions\n",
    "\n",
    "Verilen bir binary classification (ikili sınıflandırma) sonuçları için y_score ve threshold değerlerine bağlı olarak y_pred'i çıkartan `score_to_pred(y_score,threshold)` fonksiyonunu oluşturun.\n",
    "\n",
    "Girdi: y_score : 1 dimensional array. Array'in içindeki her değer o değerin pozitif sınıf (1) olma olasılığını belirtiyor.\n",
    "\n",
    "threshold : float. Bu değeri geçen tüm değerler pozitif sınıf (1), eşit ve altında olan tüm değerler negatif sınıf (0) olarak değerlendirilecek.\n",
    "\n",
    "Çıktı : y_pred : 1 dimensional array. Threshold değerini geçen tüm değerler pozitif sınıf (1), eşit ve altında olan tüm değerler negatif sınıf (0) olarak değerlendirilecek.\n",
    "\n",
    "Bu adımda NumPy'dan ve Python'ın standart kütüphanelerinden başka kütüphane kullanmayın."
   ]
  },
  {
   "cell_type": "code",
   "execution_count": 68,
   "metadata": {},
   "outputs": [],
   "source": [
    "def score_to_pred(y_score,threshold):\n",
    "    y_pred = np.sum(np.array(y_score)>threshold)\n",
    "    \n",
    "    return y_pred"
   ]
  },
  {
   "cell_type": "code",
   "execution_count": 69,
   "metadata": {},
   "outputs": [
    {
     "data": {
      "text/plain": [
       "4"
      ]
     },
     "execution_count": 69,
     "metadata": {},
     "output_type": "execute_result"
    }
   ],
   "source": [
    "score_to_pred([0.3,0.4,0.7,0.9,0.001,0.1],0.1)"
   ]
  },
  {
   "cell_type": "markdown",
   "metadata": {},
   "source": [
    "### Brier Score\n",
    "\n",
    "Verilen bir binary classification (ikili sınıflandırma) sonuçları için y_score ve y_true değerlerine bağlı olarak Brier Score'u hesaplayan `calc_brier(y_score,y_true)` fonksiyonunu oluşturun.\n",
    "\n",
    "Girdi: y_score : 1 dimensional array. Array'in içindeki her değer o değerin pozitif sınıf (1) olma olasılığını belirtiyor.\n",
    "\n",
    "y_true : 1 dimensional array. Gerçek sınıfları belirtiyor.\n",
    "\n",
    "Çıktı : Brier Score : float"
   ]
  },
  {
   "cell_type": "code",
   "execution_count": null,
   "metadata": {},
   "outputs": [],
   "source": [
    "def calc_brier(y_score,y_true):\n",
    "    "
   ]
  },
  {
   "cell_type": "markdown",
   "metadata": {},
   "source": [
    "### ROC Curve\n",
    "Verilen binary classification (ikili sınıflandırma) sonuçları için y_score ve y_true değerlerine bağlı olarak ROC Curveleri çiziniz.\n"
   ]
  },
  {
   "cell_type": "code",
   "execution_count": null,
   "metadata": {},
   "outputs": [],
   "source": [
    "from sklearn import metrics"
   ]
  },
  {
   "cell_type": "markdown",
   "metadata": {},
   "source": [
    "### Pearson Correlation\n",
    "\n",
    "Verilen bir regresyon modelinin tahminleri için Pearson correlation coefficient'ı hesaplayan `calc_pearson(observed, predicted)` fonksiyonunu tanımlayınız.\n",
    "\n",
    "Girdi : observed : 1D array. Gerçek değerler\n",
    "\n",
    "predicted : 1D array. Tahmin edilen değerler\n",
    "\n",
    "Çıktı : pearson_r, float\n",
    "\n",
    "Bu adımda NumPy'dan ve Python'ın standart kütüphanelerinden başka kütüphane kullanmayın."
   ]
  },
  {
   "cell_type": "code",
   "execution_count": 89,
   "metadata": {},
   "outputs": [],
   "source": [
    "def calc_pearson(observed, predicted):\n",
    "    pearson_r = np.corrcoef(np.array(observed),np.array(predicted))[0,1]\n",
    "    return pearson_r"
   ]
  },
  {
   "cell_type": "code",
   "execution_count": 91,
   "metadata": {},
   "outputs": [
    {
     "data": {
      "text/plain": [
       "-0.18898223650461363"
      ]
     },
     "execution_count": 91,
     "metadata": {},
     "output_type": "execute_result"
    }
   ],
   "source": [
    "calc_pearson([1,10,4], [1,1,3])"
   ]
  },
  {
   "cell_type": "markdown",
   "metadata": {},
   "source": [
    "### Observed vs. Predicted Plot\n",
    "Verilen regresyon modellerinin tahminleri için observed vs. predicted plot'u çizin.\n",
    "\n",
    "`calc_pearson(observed, predicted)` ile korelasyon katsayılarını hesaplayın."
   ]
  },
  {
   "cell_type": "code",
   "execution_count": 94,
   "metadata": {},
   "outputs": [],
   "source": [
    "observed1 = np.array([6635.398, 6975.774, 2889.962, 7440.689, 1807.916, 7228.189,\n",
    "       9659.09 , 5058.594, 7309.653, 8948.1  , 8413.432, 1714.705,\n",
    "       5656.684, 1770.33 , 9042.756, 3208.436, 3429.62 , 2245.22 ,\n",
    "       9591.565, 1819.222, 4231.49 , 3000.051, 7314.479, 8905.564,\n",
    "       5402.908, 1980.149, 8231.273, 7363.592, 6029.629, 8386.591,\n",
    "       1202.443, 7495.352, 3516.95 , 3694.915, 3573.068, 2400.941,\n",
    "       5288.791, 9056.11 , 8902.287, 8284.562, 6463.706, 4317.344,\n",
    "       1566.077, 5323.393, 4610.113, 2714.364, 5002.453, 2937.043,\n",
    "       1928.332, 4321.23 , 8074.214, 3206.12 , 5061.079, 8202.618,\n",
    "       4799.38 , 9617.842, 5618.096, 4301.223, 2119.716, 1234.069,\n",
    "       4894.078, 4149.537, 6094.809, 3137.752, 3520.689, 3407.998,\n",
    "       2048.411, 4363.749, 8540.486, 5971.483, 5692.648, 6286.933,\n",
    "       5669.882, 1169.573, 3809.209, 8221.329, 5032.271, 3865.649,\n",
    "       7814.133, 3884.06 , 1896.941, 8676.437, 8944.411, 9760.608,\n",
    "       4750.215, 6073.407, 3684.792, 4574.758, 4503.087, 6190.32 ,\n",
    "       9464.912, 7915.966, 2345.129, 7594.174, 1341.849, 1347.681,\n",
    "       7653.534, 6268.07 , 8231.157, 9691.928])\n",
    "\n",
    "predicted1 = np.array([ 7202.239,  7223.677,  3137.274,  7789.457,  2135.743,  7570.141,\n",
    "        9725.901,  5727.325,  7482.707,  9259.033,  8505.774,  2558.688,\n",
    "        6101.033,  2619.392,  9233.117,  4009.65 ,  4085.937,  2568.606,\n",
    "        9772.016,  2586.574,  4551.484,  3156.42 ,  8298.853,  9549.464,\n",
    "        5730.318,  2044.792,  8256.371,  8176.585,  6630.199,  9226.421,\n",
    "        2084.006,  8200.284,  3687.291,  4269.914,  3649.571,  3209.565,\n",
    "        6117.206,  9180.87 ,  9732.841,  8447.12 ,  7004.594,  4949.365,\n",
    "        2313.303,  6312.566,  5382.112,  3307.083,  5488.167,  3733.133,\n",
    "        2184.016,  4835.879,  8137.419,  3836.131,  5425.547,  8600.436,\n",
    "        4982.443, 10279.032,  6256.626,  4814.456,  2976.581,  2002.912,\n",
    "        6132.728,  9010.449,  8896.981,  3252.055,  7900.052,  6931.062,\n",
    "        4462.269,  6073.881, 12378.795,  6599.409,  9590.71 ,  8556.778,\n",
    "        6412.719,  1528.624,  5860.06 , 12647.16 ,  5424.861,  6389.921,\n",
    "        9548.74 ,  5964.753,  4538.166, 13024.608, 11827.769, 12904.045,\n",
    "        6411.292,  8180.683,  4756.794,  7936.207,  8953.157, 10000.253,\n",
    "       11026.966,  8022.294,  5712.438,  8895.336,  3019.886,  1506.286,\n",
    "        9068.661, 10890.18 ,  8484.525, 10748.11 ])\n",
    "\n",
    "observed2 = np.array([19.644,  1.871,  0.699, 23.948, 30.198, 28.175, 18.934, 20.908,\n",
    "       33.297,  3.881, 24.178, 29.712, 14.032, 14.966, 28.629, 14.153,\n",
    "       36.38 , 15.821, 28.23 , 32.992, 12.331, 14.934, 16.719,  5.679,\n",
    "       36.567, 33.223,  0.288, 37.299, 33.691,  3.787, 18.505, 22.349,\n",
    "        7.831, 37.8  , 11.895, 37.385, 17.31 , 34.807, 14.127,  0.854,\n",
    "       29.571,  4.437,  7.078, 36.195, 11.745, 32.482, 36.856, 10.44 ,\n",
    "       34.999, 16.84 , 39.721, 28.844, 39.682, 22.134, 26.803, 37.685,\n",
    "       10.363,  2.939, 33.017, 36.737,  0.152,  6.566, 16.852, 37.189,\n",
    "        0.922, 28.533, 28.646, 36.616, 17.079, 14.195, 21.035, 39.682,\n",
    "       26.912, 32.211,  5.409, 11.335, 21.422, 35.326, 10.353, 18.38 ,\n",
    "       28.544, 24.759, 17.911,  7.497, 24.738,  1.285, 37.663, 21.538,\n",
    "       29.176, 13.973, 24.907, 15.822, 23.667, 10.525, 34.812, 11.855,\n",
    "       39.055, 12.791, 13.866, 20.478, 14.437, 11.917,  9.456,  0.43 ,\n",
    "       17.789, 34.531, 10.317, 27.12 , 33.264, 20.936, 13.825, 23.516,\n",
    "       12.305, 24.838, 39.847,  1.415,  2.902, 13.625, 31.819, 13.559,\n",
    "        4.412, 13.093, 29.243, 12.865, 30.869, 19.665, 14.192, 12.688,\n",
    "       11.892, 33.796,  1.629,  2.986, 11.318, 39.068, 27.964, 12.785,\n",
    "        6.646, 24.323, 29.374, 17.907, 10.653, 29.501,  9.078, 15.665,\n",
    "        6.221,  2.099, 38.612,  6.188, 39.646,  1.356, 39.431,  6.231,\n",
    "       38.809, 22.149,  6.383, 23.457,  5.872, 21.878,  9.178, 10.439,\n",
    "       30.676,  9.499, 33.581, 39.371, 15.72 , 11.204,  2.906, 19.771,\n",
    "       16.661, 19.3  , 17.933,  8.919, 12.1  , 37.304, 31.592, 19.124,\n",
    "        3.347, 20.507, 24.918, 25.845, 38.108, 20.452,  2.942, 22.198,\n",
    "       14.333,  0.425, 29.697, 25.629, 30.639, 37.831, 33.184,  2.325,\n",
    "        3.9  , 32.432, 17.485, 34.652, 18.668,  2.516, 25.35 , 19.197,\n",
    "        1.243, 27.546,  4.431, 22.653,  6.122, 23.126, 37.784, 24.242,\n",
    "       37.757, 20.42 ,  2.186, 29.066, 34.557, 34.588, 38.192, 33.769,\n",
    "       38.649, 27.245, 35.408, 39.664, 15.808, 20.372, 38.739, 16.911,\n",
    "       14.746, 13.19 , 33.187, 24.778,  7.842,  8.949,  1.499, 14.564,\n",
    "        9.867, 38.106, 39.836,  3.86 , 38.195, 27.802,  9.877, 18.552,\n",
    "        0.245, 33.464,  6.759, 17.544, 16.576,  6.468, 12.328, 10.935,\n",
    "       36.636, 16.812])\n",
    "\n",
    "predicted2 = np.array([20.123,  2.706,  0.933, 24.258, 31.073, 28.451, 19.243, 21.892,\n",
    "       33.64 ,  3.978, 24.948, 30.633, 14.423, 15.853, 28.99 , 14.888,\n",
    "       36.992, 16.533, 28.342, 33.417, 13.107, 15.247, 17.421,  6.673,\n",
    "       36.823, 33.688,  0.89 , 37.921, 34.188,  4.556, 18.969, 23.033,\n",
    "        8.105, 38.35 , 11.934, 37.458, 18.131, 35.714, 14.816,  1.265,\n",
    "       29.712,  4.954,  8.061, 36.72 , 12.734, 32.864, 37.374, 10.806,\n",
    "       35.843, 17.611, 40.476, 29.671, 40.109, 22.284, 26.914, 38.531,\n",
    "       11.297,  3.095, 33.916, 36.997,  0.425,  7.428, 17.172, 37.24 ,\n",
    "        1.342, 29.309, 29.284, 37.491, 17.917, 14.259, 21.253, 39.947,\n",
    "       27.323, 32.498,  6.233, 12.31 , 21.474, 35.849, 10.826, 18.644,\n",
    "       29.036, 25.211, 18.05 ,  8.319, 24.866,  1.766, 37.707, 22.281,\n",
    "       29.854, 14.588, 25.101, 16.023, 24.483, 10.916, 35.007, 12.609,\n",
    "       39.506, 13.602, 14.794, 20.896, 15.138, 11.967,  9.757,  0.91 ,\n",
    "       18.543, 34.815, 10.662, 27.787, 34.129, 21.887, 14.342, 24.063,\n",
    "       12.645, 25.127, 40.155,  2.242,  3.672, 14.13 , 32.218, 13.651,\n",
    "        5.009, 13.475, 29.982, 13.507, 31.634, 19.858, 14.637, 13.401,\n",
    "       12.177, 34.001,  2.561,  3.609, 11.932, 39.221, 28.818, 13.31 ,\n",
    "        7.225, 24.609, 30.373, 18.036, 11.393, 29.963,  9.131, 15.721,\n",
    "        6.425,  2.472, 39.489,  6.512, 40.414,  2.242, 39.824,  6.975,\n",
    "       38.842, 22.586,  6.952, 24.014,  5.967, 22.065,  9.443, 10.446,\n",
    "       30.716, 10.488, 34.248, 40.184, 16.234, 12.159,  3.709, 20.76 ,\n",
    "       17.035, 19.856, 22.255, 10.681, 18.775, 39.399, 31.756, 23.228,\n",
    "        4.704, 23.989, 30.972, 32.074, 43.24 , 26.439,  5.996, 28.056,\n",
    "       15.264,  0.449, 33.884, 29.67 , 36.377, 39.686, 36.465,  8.094,\n",
    "        6.431, 35.359, 21.209, 38.258, 21.876,  5.281, 30.373, 22.388,\n",
    "        2.769, 28.596, 11.3  , 25.109, 12.778, 29.072, 42.407, 26.947,\n",
    "       40.061, 21.352,  6.083, 34.631, 40.739, 34.812, 39.757, 37.605,\n",
    "       41.21 , 32.541, 39.24 , 41.198, 20.588, 22.261, 41.443, 23.015,\n",
    "       19.131, 13.974, 35.993, 29.229, 10.918, 15.552,  5.771, 14.715,\n",
    "       11.321, 41.482, 42.614,  5.952, 39.52 , 29.868, 11.329, 18.846,\n",
    "        4.969, 39.956, 11.375, 22.219, 20.418, 10.013, 14.951, 17.444,\n",
    "       36.732, 20.496])"
   ]
  },
  {
   "cell_type": "code",
   "execution_count": 106,
   "metadata": {},
   "outputs": [
    {
     "data": {
      "text/plain": [
       "13024.608"
      ]
     },
     "execution_count": 106,
     "metadata": {},
     "output_type": "execute_result"
    }
   ],
   "source": [
    "np.max(predicted1)"
   ]
  },
  {
   "cell_type": "code",
   "execution_count": 110,
   "metadata": {
    "scrolled": true
   },
   "outputs": [
    {
     "name": "stdout",
     "output_type": "stream",
     "text": [
      "Pearson Correlation for first dataset is equal to :0.896\n"
     ]
    },
    {
     "data": {
      "image/png": "[encoded data removed]",
      "text/plain": [
       "<Figure size 432x288 with 1 Axes>"
      ]
     },
     "metadata": {},
     "output_type": "display_data"
    },
    {
     "name": "stdout",
     "output_type": "stream",
     "text": [
      "Pearson Correlation for second dataset is equal to :0.989\n"
     ]
    },
    {
     "data": {
      "image/png": "[encoded data removed]",
      "text/plain": [
       "<Figure size 432x288 with 1 Axes>"
      ]
     },
     "metadata": {},
     "output_type": "display_data"
    }
   ],
   "source": [
    "print('Pearson Correlation for first dataset is equal to :%0.3f'%calc_pearson(observed1, predicted1))\n",
    "_ =plt.plot(observed1, predicted1,linestyle='none',marker='.')\n",
    "\n",
    "a, b = np.polyfit(observed1, predicted1,1)\n",
    "\n",
    "x=np.array([np.min(predicted1),np.max(predicted1)])\n",
    "\n",
    "_ = plt.plot(x,a*x+b)\n",
    "plt.show()\n",
    "print('Pearson Correlation for second dataset is equal to :%0.3f'%calc_pearson(observed2, predicted2))\n",
    "_ =plt.plot(observed2, predicted2,linestyle='none',marker='.')\n",
    "\n",
    "a, b = np.polyfit(observed2, predicted2,1)\n",
    "\n",
    "x=np.array([np.min(predicted2),np.max(predicted2)])\n",
    "\n",
    "_ = plt.plot(x,a*x+b)\n",
    "plt.show()\n"
   ]
  },
  {
   "cell_type": "markdown",
   "metadata": {},
   "source": [
    "## Öz Değerlendirme"
   ]
  },
  {
   "cell_type": "markdown",
   "metadata": {},
   "source": [
    "Grup Üyesi 1 İsim : \n",
    "\n",
    "Katkılar / Öğrendiklerim: \n",
    "\n",
    "\n",
    "---\n",
    "Grup Üyesi 2 İsim : \n",
    "\n",
    "Katkılar / Öğrendiklerim: \n",
    "\n",
    "\n",
    "---\n",
    "Grup Üyesi 3 İsim : \n",
    "\n",
    "Katkılar / Öğrendiklerim: \n",
    "\n",
    "\n",
    "---\n",
    "Grup Üyesi 4 İsim : \n",
    "\n",
    "Katkılar / Öğrendiklerim: \n",
    "\n",
    "\n",
    "---\n",
    "Grup Üyesi 5 İsim : \n",
    "\n",
    "Katkılar / Öğrendiklerim: \n",
    "\n",
    "\n",
    "---\n",
    "Grup Üyesi 6 İsim : \n",
    "\n",
    "Katkılar / Öğrendiklerim: \n",
    "\n",
    "\n",
    "---\n",
    "Grup Üyesi 7 İsim : \n",
    "\n",
    "Katkılar / Öğrendiklerim: \n",
    "\n"
   ]
  },
  {
   "cell_type": "code",
   "execution_count": null,
   "metadata": {},
   "outputs": [],
   "source": []
  }
 ],
 "metadata": {
  "kernelspec": {
   "display_name": "Python 3",
   "language": "python",
   "name": "python3"
  },
  "language_info": {
   "codemirror_mode": {
    "name": "ipython",
    "version": 3
   },
   "file_extension": ".py",
   "mimetype": "text/x-python",
   "name": "python",
   "nbconvert_exporter": "python",
   "pygments_lexer": "ipython3",
   "version": "3.7.6"
  }
 },
 "nbformat": 4,
 "nbformat_minor": 2
}
