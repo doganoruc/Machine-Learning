{
 "cells": [
  {
   "cell_type": "code",
   "execution_count": 1,
   "metadata": {},
   "outputs": [],
   "source": [
    "import numpy as np\n",
    "import pandas as pd\n",
    "import matplotlib.pyplot as plt"
   ]
  },
  {
   "cell_type": "code",
   "execution_count": 4,
   "metadata": {},
   "outputs": [
    {
     "name": "stdout",
     "output_type": "stream",
     "text": [
      "X: (47, 2)\n",
      "y: (47,)\n",
      "y: (47, 1)\n"
     ]
    }
   ],
   "source": [
    "df = pd.read_csv(\"ex1data2.txt\",header = None)\n",
    "X = df.iloc[:,[0,1]].values\n",
    "X = X.astype(float)\n",
    "y = df.iloc[:,2].values\n",
    "print(\"X: \" + str(X.shape))\n",
    "print(\"y: \" + str(y.shape))\n",
    "y=y.reshape(y.shape[0],1)\n",
    "print(\"y: \"+ str(y.shape))"
   ]
  },
  {
   "cell_type": "code",
   "execution_count": 5,
   "metadata": {},
   "outputs": [],
   "source": [
    "def predict(X,theta):\n",
    "    pred_y = np.dot(X,theta)\n",
    "    return pred_y"
   ]
  },
  {
   "cell_type": "code",
   "execution_count": 6,
   "metadata": {},
   "outputs": [],
   "source": [
    "def feature_norm(X):\n",
    "    mu = np.zeros((1,X.shape[1]))\n",
    "    sigma = np.zeros((1,X.shape[1]))\n",
    "    for j in range(X.shape[1]):\n",
    "        mu[:,j] = np.mean(X[:,j],axis=0)\n",
    "        sigma[:,j] = np.std(X[:,j],axis=0)\n",
    "        X[:,j] = (X[:,j] - mu[:,j])/sigma[:,j]\n",
    "    return X"
   ]
  },
  {
   "cell_type": "code",
   "execution_count": 7,
   "metadata": {},
   "outputs": [],
   "source": [
    "def computecost(X,y,theta):\n",
    "    m = X.shape[0]\n",
    "    hq = predict(X,theta)\n",
    "    J = np.sum(pow((hq-y),2),axis=0)/(2*m)\n",
    "    return J"
   ]
  },
  {
   "cell_type": "code",
   "execution_count": 12,
   "metadata": {},
   "outputs": [],
   "source": [
    "def gradientdescent(X, y, theta, alpha, num_iter):\n",
    "    m = X.shape[0]\n",
    "    J_history = np.zeros((num_iter,1))\n",
    "    \n",
    "    for i in range(0,num_iter):\n",
    "        prd_y = predict(X,theta)\n",
    "        dJ = np.sum(((prd_y-y)*X),axis=0)/m\n",
    "        dJ = dJ.reshape(dJ.shape[0],1)\n",
    "        theta = theta - alpha*dJ\n",
    "        J_history[i] = computecost(X,y,theta)\n",
    "        \n",
    "    return theta,J_history"
   ]
  },
  {
   "cell_type": "code",
   "execution_count": 27,
   "metadata": {},
   "outputs": [
    {
     "name": "stdout",
     "output_type": "stream",
     "text": [
      "[[334302.06399328]\n",
      " [ 99411.44947359]\n",
      " [  3267.01285407]]\n",
      "(400, 1)\n"
     ]
    }
   ],
   "source": [
    "X_mask = X\n",
    "X_mask = feature_norm(X_mask)\n",
    "X_0 = np.ones((X_mask.shape[0],1))\n",
    "X_mask = np.concatenate((X_0,X_mask),axis=1)\n",
    "# print(X_mask)\n",
    "\n",
    "theta = np.zeros((X_mask.shape[1],1))\n",
    "theta,J_history = gradientdescent(X_mask, y, theta, 0.01, 400)\n",
    "print(theta)\n",
    "print(J_history.shape)"
   ]
  },
  {
   "cell_type": "code",
   "execution_count": 28,
   "metadata": {},
   "outputs": [
    {
     "data": {
      "image/png": "[encoded data removed]",
      "text/plain": [
       "<Figure size 720x504 with 1 Axes>"
      ]
     },
     "metadata": {
      "needs_background": "light"
     },
     "output_type": "display_data"
    }
   ],
   "source": [
    "a = np.arange(0,len(J_history))\n",
    "fig = plt.figure(figsize=(10,7))\n",
    "plt.plot(a,J_history)\n",
    "plt.xlabel('Number of Iterations')\n",
    "plt.ylabel('Cost Magnitude')\n",
    "plt.title(\"Cost-Iteration Graph\")\n",
    "plt.show()"
   ]
  },
  {
   "cell_type": "markdown",
   "metadata": {},
   "source": [
    "# Normal Equation For Theta Calculation"
   ]
  },
  {
   "cell_type": "code",
   "execution_count": 32,
   "metadata": {},
   "outputs": [
    {
     "data": {
      "text/plain": [
       "array([[340412.65957447],\n",
       "       [109447.79646964],\n",
       "       [ -6578.35485416]])"
      ]
     },
     "execution_count": 32,
     "metadata": {},
     "output_type": "execute_result"
    }
   ],
   "source": [
    "X_mask_T = X_mask.transpose()\n",
    "theta_nq1 = np.linalg.inv((np.dot(X_mask_T,X_mask)))\n",
    "theta_nq2 = np.dot(theta_nq1,X_mask_T)\n",
    "theta1 = np.dot(theta_nq2,y)\n",
    "theta1"
   ]
  },
  {
   "cell_type": "code",
   "execution_count": null,
   "metadata": {},
   "outputs": [],
   "source": []
  }
 ],
 "metadata": {
  "kernelspec": {
   "display_name": "Python 3",
   "language": "python",
   "name": "python3"
  },
  "language_info": {
   "codemirror_mode": {
    "name": "ipython",
    "version": 3
   },
   "file_extension": ".py",
   "mimetype": "text/x-python",
   "name": "python",
   "nbconvert_exporter": "python",
   "pygments_lexer": "ipython3",
   "version": "3.7.6"
  }
 },
 "nbformat": 4,
 "nbformat_minor": 4
}
